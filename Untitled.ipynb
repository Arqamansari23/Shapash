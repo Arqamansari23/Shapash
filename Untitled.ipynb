{
 "cells": [
  {
   "cell_type": "markdown",
   "id": "fd695516-5669-4ebc-af1a-fac208c93b61",
   "metadata": {},
   "source": [
    "# Shapash Model Overview\n",
    "\n",
    "https://shapash.readthedocs.io/en/latest/\n",
    "\n",
    "## With this tutorial you: \n",
    "Understand how to create a Shapash SmartPredictor to make prediction and have local explanation in production with a simple use case.\n",
    "\n",
    "This tutorial describes the different steps from training the model to Shapash SmartPredictor deployment. A more detailed tutorial allows you to know more\n",
    "\n",
    "about the SmartPredictor Object.\n",
    "\n",
    "## Contents:\n",
    "\n",
    "Build a Regressor\n",
    "\n",
    "Compile Shapash SmartExplainer\n",
    "\n",
    "From Shapash SmartExplainer to SmartPredictor\n",
    "\n",
    "Save Shapash Smartpredictor Object in pickle file\n",
    "\n",
    "Make a prediction"
   ]
  },
  {
   "cell_type": "markdown",
   "id": "c6a9c278-a2b8-4c3e-8bdc-830067ca7cdc",
   "metadata": {},
   "source": [
    "## Load The DataSet\n"
   ]
  },
  {
   "cell_type": "code",
   "execution_count": 1,
   "id": "a4db5a17-c9d2-4042-a310-1cc8f64b0108",
   "metadata": {},
   "outputs": [
    {
     "data": {
      "text/html": [
       "<div>\n",
       "<style scoped>\n",
       "    .dataframe tbody tr th:only-of-type {\n",
       "        vertical-align: middle;\n",
       "    }\n",
       "\n",
       "    .dataframe tbody tr th {\n",
       "        vertical-align: top;\n",
       "    }\n",
       "\n",
       "    .dataframe thead th {\n",
       "        text-align: right;\n",
       "    }\n",
       "</style>\n",
       "<table border=\"1\" class=\"dataframe\">\n",
       "  <thead>\n",
       "    <tr style=\"text-align: right;\">\n",
       "      <th></th>\n",
       "      <th>total_bill</th>\n",
       "      <th>tip</th>\n",
       "      <th>sex</th>\n",
       "      <th>smoker</th>\n",
       "      <th>day</th>\n",
       "      <th>time</th>\n",
       "      <th>size</th>\n",
       "    </tr>\n",
       "  </thead>\n",
       "  <tbody>\n",
       "    <tr>\n",
       "      <th>0</th>\n",
       "      <td>16.99</td>\n",
       "      <td>1.01</td>\n",
       "      <td>Female</td>\n",
       "      <td>No</td>\n",
       "      <td>Sun</td>\n",
       "      <td>Dinner</td>\n",
       "      <td>2</td>\n",
       "    </tr>\n",
       "    <tr>\n",
       "      <th>1</th>\n",
       "      <td>10.34</td>\n",
       "      <td>1.66</td>\n",
       "      <td>Male</td>\n",
       "      <td>No</td>\n",
       "      <td>Sun</td>\n",
       "      <td>Dinner</td>\n",
       "      <td>3</td>\n",
       "    </tr>\n",
       "    <tr>\n",
       "      <th>2</th>\n",
       "      <td>21.01</td>\n",
       "      <td>3.50</td>\n",
       "      <td>Male</td>\n",
       "      <td>No</td>\n",
       "      <td>Sun</td>\n",
       "      <td>Dinner</td>\n",
       "      <td>3</td>\n",
       "    </tr>\n",
       "    <tr>\n",
       "      <th>3</th>\n",
       "      <td>23.68</td>\n",
       "      <td>3.31</td>\n",
       "      <td>Male</td>\n",
       "      <td>No</td>\n",
       "      <td>Sun</td>\n",
       "      <td>Dinner</td>\n",
       "      <td>2</td>\n",
       "    </tr>\n",
       "    <tr>\n",
       "      <th>4</th>\n",
       "      <td>24.59</td>\n",
       "      <td>3.61</td>\n",
       "      <td>Female</td>\n",
       "      <td>No</td>\n",
       "      <td>Sun</td>\n",
       "      <td>Dinner</td>\n",
       "      <td>4</td>\n",
       "    </tr>\n",
       "  </tbody>\n",
       "</table>\n",
       "</div>"
      ],
      "text/plain": [
       "   total_bill   tip     sex smoker  day    time  size\n",
       "0       16.99  1.01  Female     No  Sun  Dinner     2\n",
       "1       10.34  1.66    Male     No  Sun  Dinner     3\n",
       "2       21.01  3.50    Male     No  Sun  Dinner     3\n",
       "3       23.68  3.31    Male     No  Sun  Dinner     2\n",
       "4       24.59  3.61  Female     No  Sun  Dinner     4"
      ]
     },
     "execution_count": 1,
     "metadata": {},
     "output_type": "execute_result"
    }
   ],
   "source": [
    "import seaborn as sns\n",
    "df=sns.load_dataset('tips')\n",
    "df.head()"
   ]
  },
  {
   "cell_type": "markdown",
   "id": "4040f29e-9ba6-4ec3-be7e-a7edfb7e634f",
   "metadata": {},
   "source": [
    "## Divide the dataset into independent and dependent dataset"
   ]
  },
  {
   "cell_type": "code",
   "execution_count": 2,
   "id": "bb53f2fb-5ef3-4d2a-bf00-938643975670",
   "metadata": {},
   "outputs": [],
   "source": [
    "y=df['tip']\n",
    "X=df[df.columns.difference(['tip'])]"
   ]
  },
  {
   "cell_type": "code",
   "execution_count": 3,
   "id": "cc56cd0e-4143-4898-bd55-3c1b12c48367",
   "metadata": {},
   "outputs": [
    {
     "data": {
      "text/html": [
       "<div>\n",
       "<style scoped>\n",
       "    .dataframe tbody tr th:only-of-type {\n",
       "        vertical-align: middle;\n",
       "    }\n",
       "\n",
       "    .dataframe tbody tr th {\n",
       "        vertical-align: top;\n",
       "    }\n",
       "\n",
       "    .dataframe thead th {\n",
       "        text-align: right;\n",
       "    }\n",
       "</style>\n",
       "<table border=\"1\" class=\"dataframe\">\n",
       "  <thead>\n",
       "    <tr style=\"text-align: right;\">\n",
       "      <th></th>\n",
       "      <th>day</th>\n",
       "      <th>sex</th>\n",
       "      <th>size</th>\n",
       "      <th>smoker</th>\n",
       "      <th>time</th>\n",
       "      <th>total_bill</th>\n",
       "    </tr>\n",
       "  </thead>\n",
       "  <tbody>\n",
       "    <tr>\n",
       "      <th>0</th>\n",
       "      <td>Sun</td>\n",
       "      <td>Female</td>\n",
       "      <td>2</td>\n",
       "      <td>No</td>\n",
       "      <td>Dinner</td>\n",
       "      <td>16.99</td>\n",
       "    </tr>\n",
       "    <tr>\n",
       "      <th>1</th>\n",
       "      <td>Sun</td>\n",
       "      <td>Male</td>\n",
       "      <td>3</td>\n",
       "      <td>No</td>\n",
       "      <td>Dinner</td>\n",
       "      <td>10.34</td>\n",
       "    </tr>\n",
       "    <tr>\n",
       "      <th>2</th>\n",
       "      <td>Sun</td>\n",
       "      <td>Male</td>\n",
       "      <td>3</td>\n",
       "      <td>No</td>\n",
       "      <td>Dinner</td>\n",
       "      <td>21.01</td>\n",
       "    </tr>\n",
       "    <tr>\n",
       "      <th>3</th>\n",
       "      <td>Sun</td>\n",
       "      <td>Male</td>\n",
       "      <td>2</td>\n",
       "      <td>No</td>\n",
       "      <td>Dinner</td>\n",
       "      <td>23.68</td>\n",
       "    </tr>\n",
       "    <tr>\n",
       "      <th>4</th>\n",
       "      <td>Sun</td>\n",
       "      <td>Female</td>\n",
       "      <td>4</td>\n",
       "      <td>No</td>\n",
       "      <td>Dinner</td>\n",
       "      <td>24.59</td>\n",
       "    </tr>\n",
       "  </tbody>\n",
       "</table>\n",
       "</div>"
      ],
      "text/plain": [
       "   day     sex  size smoker    time  total_bill\n",
       "0  Sun  Female     2     No  Dinner       16.99\n",
       "1  Sun    Male     3     No  Dinner       10.34\n",
       "2  Sun    Male     3     No  Dinner       21.01\n",
       "3  Sun    Male     2     No  Dinner       23.68\n",
       "4  Sun  Female     4     No  Dinner       24.59"
      ]
     },
     "execution_count": 3,
     "metadata": {},
     "output_type": "execute_result"
    }
   ],
   "source": [
    "X.head()"
   ]
  },
  {
   "cell_type": "code",
   "execution_count": 4,
   "id": "b0f4339d-89e3-4ac3-a6ac-d4eb994bb2a5",
   "metadata": {},
   "outputs": [
    {
     "name": "stdout",
     "output_type": "stream",
     "text": [
      "<class 'pandas.core.frame.DataFrame'>\n",
      "RangeIndex: 244 entries, 0 to 243\n",
      "Data columns (total 7 columns):\n",
      " #   Column      Non-Null Count  Dtype   \n",
      "---  ------      --------------  -----   \n",
      " 0   total_bill  244 non-null    float64 \n",
      " 1   tip         244 non-null    float64 \n",
      " 2   sex         244 non-null    category\n",
      " 3   smoker      244 non-null    category\n",
      " 4   day         244 non-null    category\n",
      " 5   time        244 non-null    category\n",
      " 6   size        244 non-null    int64   \n",
      "dtypes: category(4), float64(2), int64(1)\n",
      "memory usage: 7.4 KB\n"
     ]
    }
   ],
   "source": [
    "df.info()"
   ]
  },
  {
   "cell_type": "markdown",
   "id": "4899e2b6-4c3a-4ea9-9051-38acf213bb14",
   "metadata": {},
   "source": [
    "# Apply LabelEncoder to Catagorical Columns column"
   ]
  },
  {
   "cell_type": "code",
   "execution_count": 5,
   "id": "4e3db347-eeb7-4b49-88f7-e4602c641bcc",
   "metadata": {},
   "outputs": [
    {
     "name": "stderr",
     "output_type": "stream",
     "text": [
      "C:\\Users\\786 COMPUTERS\\AppData\\Local\\Temp\\ipykernel_1092\\4241665249.py:6: SettingWithCopyWarning: \n",
      "A value is trying to be set on a copy of a slice from a DataFrame.\n",
      "Try using .loc[row_indexer,col_indexer] = value instead\n",
      "\n",
      "See the caveats in the documentation: https://pandas.pydata.org/pandas-docs/stable/user_guide/indexing.html#returning-a-view-versus-a-copy\n",
      "  X[column] = le.fit_transform(X[column])\n",
      "C:\\Users\\786 COMPUTERS\\AppData\\Local\\Temp\\ipykernel_1092\\4241665249.py:6: SettingWithCopyWarning: \n",
      "A value is trying to be set on a copy of a slice from a DataFrame.\n",
      "Try using .loc[row_indexer,col_indexer] = value instead\n",
      "\n",
      "See the caveats in the documentation: https://pandas.pydata.org/pandas-docs/stable/user_guide/indexing.html#returning-a-view-versus-a-copy\n",
      "  X[column] = le.fit_transform(X[column])\n",
      "C:\\Users\\786 COMPUTERS\\AppData\\Local\\Temp\\ipykernel_1092\\4241665249.py:6: SettingWithCopyWarning: \n",
      "A value is trying to be set on a copy of a slice from a DataFrame.\n",
      "Try using .loc[row_indexer,col_indexer] = value instead\n",
      "\n",
      "See the caveats in the documentation: https://pandas.pydata.org/pandas-docs/stable/user_guide/indexing.html#returning-a-view-versus-a-copy\n",
      "  X[column] = le.fit_transform(X[column])\n",
      "C:\\Users\\786 COMPUTERS\\AppData\\Local\\Temp\\ipykernel_1092\\4241665249.py:6: SettingWithCopyWarning: \n",
      "A value is trying to be set on a copy of a slice from a DataFrame.\n",
      "Try using .loc[row_indexer,col_indexer] = value instead\n",
      "\n",
      "See the caveats in the documentation: https://pandas.pydata.org/pandas-docs/stable/user_guide/indexing.html#returning-a-view-versus-a-copy\n",
      "  X[column] = le.fit_transform(X[column])\n"
     ]
    }
   ],
   "source": [
    "columns=['sex','smoker','day','time']\n",
    "from sklearn.preprocessing import LabelEncoder\n",
    "le = LabelEncoder()\n",
    "\n",
    "for column in columns:\n",
    "    X[column] = le.fit_transform(X[column])"
   ]
  },
  {
   "cell_type": "code",
   "execution_count": 6,
   "id": "3b5ab0df-c0b7-4899-b0a7-6a47469174b8",
   "metadata": {},
   "outputs": [
    {
     "data": {
      "text/html": [
       "<div>\n",
       "<style scoped>\n",
       "    .dataframe tbody tr th:only-of-type {\n",
       "        vertical-align: middle;\n",
       "    }\n",
       "\n",
       "    .dataframe tbody tr th {\n",
       "        vertical-align: top;\n",
       "    }\n",
       "\n",
       "    .dataframe thead th {\n",
       "        text-align: right;\n",
       "    }\n",
       "</style>\n",
       "<table border=\"1\" class=\"dataframe\">\n",
       "  <thead>\n",
       "    <tr style=\"text-align: right;\">\n",
       "      <th></th>\n",
       "      <th>day</th>\n",
       "      <th>sex</th>\n",
       "      <th>size</th>\n",
       "      <th>smoker</th>\n",
       "      <th>time</th>\n",
       "      <th>total_bill</th>\n",
       "    </tr>\n",
       "  </thead>\n",
       "  <tbody>\n",
       "    <tr>\n",
       "      <th>0</th>\n",
       "      <td>2</td>\n",
       "      <td>0</td>\n",
       "      <td>2</td>\n",
       "      <td>0</td>\n",
       "      <td>0</td>\n",
       "      <td>16.99</td>\n",
       "    </tr>\n",
       "    <tr>\n",
       "      <th>1</th>\n",
       "      <td>2</td>\n",
       "      <td>1</td>\n",
       "      <td>3</td>\n",
       "      <td>0</td>\n",
       "      <td>0</td>\n",
       "      <td>10.34</td>\n",
       "    </tr>\n",
       "    <tr>\n",
       "      <th>2</th>\n",
       "      <td>2</td>\n",
       "      <td>1</td>\n",
       "      <td>3</td>\n",
       "      <td>0</td>\n",
       "      <td>0</td>\n",
       "      <td>21.01</td>\n",
       "    </tr>\n",
       "    <tr>\n",
       "      <th>3</th>\n",
       "      <td>2</td>\n",
       "      <td>1</td>\n",
       "      <td>2</td>\n",
       "      <td>0</td>\n",
       "      <td>0</td>\n",
       "      <td>23.68</td>\n",
       "    </tr>\n",
       "    <tr>\n",
       "      <th>4</th>\n",
       "      <td>2</td>\n",
       "      <td>0</td>\n",
       "      <td>4</td>\n",
       "      <td>0</td>\n",
       "      <td>0</td>\n",
       "      <td>24.59</td>\n",
       "    </tr>\n",
       "  </tbody>\n",
       "</table>\n",
       "</div>"
      ],
      "text/plain": [
       "   day  sex  size  smoker  time  total_bill\n",
       "0    2    0     2       0     0       16.99\n",
       "1    2    1     3       0     0       10.34\n",
       "2    2    1     3       0     0       21.01\n",
       "3    2    1     2       0     0       23.68\n",
       "4    2    0     4       0     0       24.59"
      ]
     },
     "execution_count": 6,
     "metadata": {},
     "output_type": "execute_result"
    }
   ],
   "source": [
    "X.head()"
   ]
  },
  {
   "cell_type": "markdown",
   "id": "cc0255b8-10ae-4504-be5f-2012948707f8",
   "metadata": {},
   "source": [
    "## Train Test split"
   ]
  },
  {
   "cell_type": "code",
   "execution_count": 7,
   "id": "634332cd-517f-4fe4-9ee4-a7e2c5f52835",
   "metadata": {},
   "outputs": [],
   "source": [
    "from sklearn.model_selection import train_test_split\n",
    "X_train,X_test,y_train,y_test=train_test_split(X,y,train_size=0.75,random_state=1)"
   ]
  },
  {
   "cell_type": "markdown",
   "id": "ae1d668c-aeaf-4a9d-b663-38c46e91cfc8",
   "metadata": {},
   "source": [
    "## Applying RandomForestRegressor On The Training Data"
   ]
  },
  {
   "cell_type": "code",
   "execution_count": 8,
   "id": "57465c29-f9f4-4b1d-8be9-578330421e4a",
   "metadata": {},
   "outputs": [],
   "source": [
    "from sklearn.ensemble import RandomForestRegressor\n",
    "regressor = RandomForestRegressor(n_estimators=200).fit(X_train,y_train)"
   ]
  },
  {
   "cell_type": "markdown",
   "id": "f3a4bf19-b38a-4096-b132-7612180a28f2",
   "metadata": {},
   "source": [
    "# Lets Understand Our Model With Shapash\n",
    "In this section, we use the SmartExplainer Object from shapash.\n",
    "\n",
    "It allows users to understand how the model works with the specified data.\n",
    "This object must be used only for data mining step. Shapash provides another object for deployment."
   ]
  },
  {
   "cell_type": "code",
   "execution_count": 9,
   "id": "1b852d15-961f-48ff-b5c4-8477a20a1457",
   "metadata": {},
   "outputs": [],
   "source": [
    "from shapash.explainer.smart_explainer import SmartExplainer"
   ]
  },
  {
   "cell_type": "code",
   "execution_count": 10,
   "id": "e89cc05d-1c02-42e2-be89-afd2deb54aeb",
   "metadata": {},
   "outputs": [],
   "source": [
    "xpl = SmartExplainer(model=regressor)"
   ]
  },
  {
   "cell_type": "code",
   "execution_count": 11,
   "id": "f653c1e9-b719-428d-a777-0e05247faf2d",
   "metadata": {},
   "outputs": [
    {
     "name": "stdout",
     "output_type": "stream",
     "text": [
      "INFO: Shap explainer type - <shap.explainers._tree.TreeExplainer object at 0x000002025C5D9250>\n"
     ]
    }
   ],
   "source": [
    "xpl.compile(X_test)"
   ]
  },
  {
   "cell_type": "code",
   "execution_count": 12,
   "id": "82700daf-fe61-41ae-8bfe-428426f3b995",
   "metadata": {},
   "outputs": [
    {
     "data": {
      "text/plain": [
       "<shapash.explainer.smart_explainer.SmartExplainer at 0x20262feae90>"
      ]
     },
     "execution_count": 12,
     "metadata": {},
     "output_type": "execute_result"
    }
   ],
   "source": [
    "xpl"
   ]
  },
  {
   "cell_type": "markdown",
   "id": "f7df9636-a1e4-411a-a013-d8205a5a2250",
   "metadata": {},
   "source": [
    "# Lets Understand the results of your trained model\n",
    "Then, we can easily get a first summary of the explanation of the model results.\n",
    "\n",
    "Here, we chose to get the 3 most contributive features for each prediction.\n",
    "We used a wording to get features names more understandable in operationnal case"
   ]
  },
  {
   "cell_type": "code",
   "execution_count": 13,
   "id": "60e21d50-5fc5-48a0-a8f2-4aada4a6326c",
   "metadata": {},
   "outputs": [
    {
     "name": "stderr",
     "output_type": "stream",
     "text": [
      "D:\\conda\\Lib\\site-packages\\shapash\\webapp\\utils\\utils.py:40: FutureWarning:\n",
      "\n",
      "Index.is_numeric is deprecated. Use pandas.api.types.is_any_real_numeric_dtype instead\n",
      "\n",
      "INFO:root:Your Shapash application run on http://DESKTOP-G5S0J8E:8050/\n",
      "INFO:root:Use the method .kill() to down your app.\n"
     ]
    }
   ],
   "source": [
    "app = xpl.run_app(title_story='Tips Dataset')"
   ]
  },
  {
   "cell_type": "code",
   "execution_count": 14,
   "id": "ddb74a13-3454-4ac9-abdb-bb4566b8bbf3",
   "metadata": {},
   "outputs": [],
   "source": [
    "predictor = xpl.to_smartpredictor()\n",
    "predictor.save('./predictor.pkl')\n",
    "from shapash.utils.load_smartpredictor import load_smartpredictor\n",
    "predictor_load = load_smartpredictor('./predictor.pkl')"
   ]
  },
  {
   "cell_type": "markdown",
   "id": "53f78051-ef49-4edd-896c-732266dc1a18",
   "metadata": {},
   "source": [
    "# Make a prediction with your SmartPredictor\r\n",
    "In order to make new predictions and summarize local explainability of your model on new datasets, you can use the method add_input of the\n",
    "\n",
    " SmartPredictor.\r\n",
    "\r\n",
    "The add_input method is the first step to add a dataset for prediction and explainabili\n",
    "ty.\r\n",
    "It checks the structure of the dataset, the prediction and the contribution if specif\n",
    "ied.\r\n",
    "It applies the preprocessing specified in the initialisation and reorder the features with the order used by the model. (see the documentation of\n",
    "\n",
    "this method)\r\n",
    "In API mode, this method can handle dictionnaries data which can be received from a GET or a POST re\n",
    "quest.\r\n",
    "A\n",
    "dd data\r\n",
    "The x input in add_input method doesn't have to be encoded, add_input applies preprocessing."
   ]
  },
  {
   "cell_type": "code",
   "execution_count": 15,
   "id": "e892f9d0-5619-40fb-85bb-975930413b02",
   "metadata": {},
   "outputs": [
    {
     "name": "stdout",
     "output_type": "stream",
     "text": [
      "INFO: Shap explainer type - <shap.explainers._tree.TreeExplainer object at 0x000002026754C410>\n"
     ]
    }
   ],
   "source": [
    "predictor_load.add_input(x=X, ypred=y)"
   ]
  },
  {
   "cell_type": "code",
   "execution_count": 16,
   "id": "137339e9-5bf6-4397-bc40-5d304fdbdf65",
   "metadata": {},
   "outputs": [
    {
     "name": "stdout",
     "output_type": "stream",
     "text": [
      "INFO: Shap explainer type - <shap.explainers._tree.TreeExplainer object at 0x000002026754C410>\n"
     ]
    }
   ],
   "source": [
    "detailed_contributions = predictor_load.detail_contributions()"
   ]
  },
  {
   "cell_type": "code",
   "execution_count": 17,
   "id": "2bb475c1-d854-4b43-af43-e22a90f8b568",
   "metadata": {},
   "outputs": [
    {
     "data": {
      "text/html": [
       "<div>\n",
       "<style scoped>\n",
       "    .dataframe tbody tr th:only-of-type {\n",
       "        vertical-align: middle;\n",
       "    }\n",
       "\n",
       "    .dataframe tbody tr th {\n",
       "        vertical-align: top;\n",
       "    }\n",
       "\n",
       "    .dataframe thead th {\n",
       "        text-align: right;\n",
       "    }\n",
       "</style>\n",
       "<table border=\"1\" class=\"dataframe\">\n",
       "  <thead>\n",
       "    <tr style=\"text-align: right;\">\n",
       "      <th></th>\n",
       "      <th>tip</th>\n",
       "      <th>day</th>\n",
       "      <th>sex</th>\n",
       "      <th>size</th>\n",
       "      <th>smoker</th>\n",
       "      <th>time</th>\n",
       "      <th>total_bill</th>\n",
       "    </tr>\n",
       "  </thead>\n",
       "  <tbody>\n",
       "    <tr>\n",
       "      <th>0</th>\n",
       "      <td>1.01</td>\n",
       "      <td>0.039089</td>\n",
       "      <td>0.099318</td>\n",
       "      <td>-0.018564</td>\n",
       "      <td>-0.035033</td>\n",
       "      <td>-0.002448</td>\n",
       "      <td>0.222412</td>\n",
       "    </tr>\n",
       "    <tr>\n",
       "      <th>1</th>\n",
       "      <td>1.66</td>\n",
       "      <td>0.080101</td>\n",
       "      <td>-0.022067</td>\n",
       "      <td>-0.008183</td>\n",
       "      <td>-0.060481</td>\n",
       "      <td>-0.020191</td>\n",
       "      <td>-1.191057</td>\n",
       "    </tr>\n",
       "    <tr>\n",
       "      <th>2</th>\n",
       "      <td>3.50</td>\n",
       "      <td>0.041035</td>\n",
       "      <td>-0.018440</td>\n",
       "      <td>-0.012122</td>\n",
       "      <td>-0.027240</td>\n",
       "      <td>0.012890</td>\n",
       "      <td>0.461699</td>\n",
       "    </tr>\n",
       "    <tr>\n",
       "      <th>3</th>\n",
       "      <td>3.31</td>\n",
       "      <td>0.071011</td>\n",
       "      <td>-0.015454</td>\n",
       "      <td>-0.027504</td>\n",
       "      <td>-0.004976</td>\n",
       "      <td>0.012226</td>\n",
       "      <td>0.119769</td>\n",
       "    </tr>\n",
       "    <tr>\n",
       "      <th>4</th>\n",
       "      <td>3.61</td>\n",
       "      <td>0.034589</td>\n",
       "      <td>0.052169</td>\n",
       "      <td>-0.042771</td>\n",
       "      <td>-0.006804</td>\n",
       "      <td>-0.005541</td>\n",
       "      <td>-0.300319</td>\n",
       "    </tr>\n",
       "  </tbody>\n",
       "</table>\n",
       "</div>"
      ],
      "text/plain": [
       "    tip       day       sex      size    smoker      time  total_bill\n",
       "0  1.01  0.039089  0.099318 -0.018564 -0.035033 -0.002448    0.222412\n",
       "1  1.66  0.080101 -0.022067 -0.008183 -0.060481 -0.020191   -1.191057\n",
       "2  3.50  0.041035 -0.018440 -0.012122 -0.027240  0.012890    0.461699\n",
       "3  3.31  0.071011 -0.015454 -0.027504 -0.004976  0.012226    0.119769\n",
       "4  3.61  0.034589  0.052169 -0.042771 -0.006804 -0.005541   -0.300319"
      ]
     },
     "execution_count": 17,
     "metadata": {},
     "output_type": "execute_result"
    }
   ],
   "source": [
    "detailed_contributions.head()"
   ]
  },
  {
   "cell_type": "markdown",
   "id": "2a5064cf-cde6-4dc5-87a2-63bedaefd471",
   "metadata": {},
   "source": [
    "# Summarize explanability of the predictions\n",
    "You can use the summarize method to summarize your local explainability\n",
    "\n",
    "This summary can be configured with modify_mask method so that you have explainability that meets your operational needs."
   ]
  },
  {
   "cell_type": "code",
   "execution_count": 18,
   "id": "7c970f2e-25b9-4783-8644-90774aeed71d",
   "metadata": {},
   "outputs": [
    {
     "data": {
      "text/html": [
       "<div>\n",
       "<style scoped>\n",
       "    .dataframe tbody tr th:only-of-type {\n",
       "        vertical-align: middle;\n",
       "    }\n",
       "\n",
       "    .dataframe tbody tr th {\n",
       "        vertical-align: top;\n",
       "    }\n",
       "\n",
       "    .dataframe thead th {\n",
       "        text-align: right;\n",
       "    }\n",
       "</style>\n",
       "<table border=\"1\" class=\"dataframe\">\n",
       "  <thead>\n",
       "    <tr style=\"text-align: right;\">\n",
       "      <th></th>\n",
       "      <th>tip</th>\n",
       "      <th>feature_1</th>\n",
       "      <th>value_1</th>\n",
       "      <th>contribution_1</th>\n",
       "      <th>feature_2</th>\n",
       "      <th>value_2</th>\n",
       "      <th>contribution_2</th>\n",
       "      <th>feature_3</th>\n",
       "      <th>value_3</th>\n",
       "      <th>contribution_3</th>\n",
       "    </tr>\n",
       "  </thead>\n",
       "  <tbody>\n",
       "    <tr>\n",
       "      <th>0</th>\n",
       "      <td>1.01</td>\n",
       "      <td>total_bill</td>\n",
       "      <td>16.99</td>\n",
       "      <td>0.222412</td>\n",
       "      <td>sex</td>\n",
       "      <td>0.0</td>\n",
       "      <td>0.099318</td>\n",
       "      <td>day</td>\n",
       "      <td>2.0</td>\n",
       "      <td>0.039089</td>\n",
       "    </tr>\n",
       "    <tr>\n",
       "      <th>1</th>\n",
       "      <td>1.66</td>\n",
       "      <td>total_bill</td>\n",
       "      <td>10.34</td>\n",
       "      <td>-1.191057</td>\n",
       "      <td>day</td>\n",
       "      <td>2.0</td>\n",
       "      <td>0.080101</td>\n",
       "      <td>smoker</td>\n",
       "      <td>0.0</td>\n",
       "      <td>-0.060481</td>\n",
       "    </tr>\n",
       "    <tr>\n",
       "      <th>2</th>\n",
       "      <td>3.50</td>\n",
       "      <td>total_bill</td>\n",
       "      <td>21.01</td>\n",
       "      <td>0.461699</td>\n",
       "      <td>day</td>\n",
       "      <td>2.0</td>\n",
       "      <td>0.041035</td>\n",
       "      <td>smoker</td>\n",
       "      <td>0.0</td>\n",
       "      <td>-0.02724</td>\n",
       "    </tr>\n",
       "    <tr>\n",
       "      <th>3</th>\n",
       "      <td>3.31</td>\n",
       "      <td>total_bill</td>\n",
       "      <td>23.68</td>\n",
       "      <td>0.119769</td>\n",
       "      <td>day</td>\n",
       "      <td>2.0</td>\n",
       "      <td>0.071011</td>\n",
       "      <td>size</td>\n",
       "      <td>2.0</td>\n",
       "      <td>-0.027504</td>\n",
       "    </tr>\n",
       "    <tr>\n",
       "      <th>4</th>\n",
       "      <td>3.61</td>\n",
       "      <td>total_bill</td>\n",
       "      <td>24.59</td>\n",
       "      <td>-0.300319</td>\n",
       "      <td>sex</td>\n",
       "      <td>0.0</td>\n",
       "      <td>0.052169</td>\n",
       "      <td>size</td>\n",
       "      <td>4.0</td>\n",
       "      <td>-0.042771</td>\n",
       "    </tr>\n",
       "  </tbody>\n",
       "</table>\n",
       "</div>"
      ],
      "text/plain": [
       "    tip   feature_1 value_1 contribution_1 feature_2 value_2 contribution_2  \\\n",
       "0  1.01  total_bill   16.99       0.222412       sex     0.0       0.099318   \n",
       "1  1.66  total_bill   10.34      -1.191057       day     2.0       0.080101   \n",
       "2  3.50  total_bill   21.01       0.461699       day     2.0       0.041035   \n",
       "3  3.31  total_bill   23.68       0.119769       day     2.0       0.071011   \n",
       "4  3.61  total_bill   24.59      -0.300319       sex     0.0       0.052169   \n",
       "\n",
       "  feature_3 value_3 contribution_3  \n",
       "0       day     2.0       0.039089  \n",
       "1    smoker     0.0      -0.060481  \n",
       "2    smoker     0.0       -0.02724  \n",
       "3      size     2.0      -0.027504  \n",
       "4      size     4.0      -0.042771  "
      ]
     },
     "execution_count": 18,
     "metadata": {},
     "output_type": "execute_result"
    }
   ],
   "source": [
    "predictor_load.modify_mask(max_contrib=3)\n",
    "explanation = predictor_load.summarize()\n",
    "explanation.head()"
   ]
  },
  {
   "cell_type": "code",
   "execution_count": null,
   "id": "71d23677-074f-446a-bd8e-7c3842ebc65d",
   "metadata": {},
   "outputs": [],
   "source": []
  }
 ],
 "metadata": {
  "kernelspec": {
   "display_name": "Python 3 (ipykernel)",
   "language": "python",
   "name": "python3"
  },
  "language_info": {
   "codemirror_mode": {
    "name": "ipython",
    "version": 3
   },
   "file_extension": ".py",
   "mimetype": "text/x-python",
   "name": "python",
   "nbconvert_exporter": "python",
   "pygments_lexer": "ipython3",
   "version": "3.11.7"
  }
 },
 "nbformat": 4,
 "nbformat_minor": 5
}
